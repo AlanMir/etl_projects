{
 "cells": [
  {
   "cell_type": "code",
   "execution_count": 102,
   "id": "f3390071-19c1-4b7e-974d-543ffbe66c54",
   "metadata": {},
   "outputs": [],
   "source": [
    "# Importing the required libraries\n",
    "import requests\n",
    "import sqlite3\n",
    "import pandas as pd\n",
    "from bs4 import BeautifulSoup\n",
    "import numpy as np\n",
    "from datetime import datetime\n",
    "\n",
    "#Initialize enttities\n",
    "url='https://web.archive.org/web/20230902185326/https://en.wikipedia.org/wiki/List_of_countries_by_GDP_%28nominal%29'\n",
    "table_attribs =['Country','GDP_USD_millions']\n",
    "db_name = 'World_Economies.db'\n",
    "table_name = 'Countries_by_GDP'\n",
    "csv_path = 'Countries_by_GDP.csv'\n",
    "query_statement = f\"SELECT * from {table_name} WHERE GDP_USD_billions >= 100\"\n"
   ]
  },
  {
   "cell_type": "code",
   "execution_count": 103,
   "id": "a3ea2b2b-3e1a-4e50-8816-2e6db2b15c92",
   "metadata": {},
   "outputs": [],
   "source": [
    "def extract(url, table_attribs):\n",
    "    df = pd.DataFrame(columns=table_attribs)\n",
    "    html_page = requests.get(url).text\n",
    "    data = BeautifulSoup(html_page, 'html.parser')\n",
    "    tables = data.find_all('table')\n",
    "    rows = tables[2].find_all('tr')\n",
    "    ''' This function extracts the required\n",
    "    information from the website and saves it to a dataframe. The\n",
    "    function returns the dataframe for further processing. '''\n",
    "    for row in rows[3:]:\n",
    "        col = row.find_all('td')\n",
    "        data_dict = {table_attribs[0]: col[0].get_text(strip=True),\n",
    "                         table_attribs[1]: col[2].get_text(strip=True)}\n",
    "        df1 = pd.DataFrame(data_dict, index=[0])\n",
    "        df = pd.concat([df,df1], ignore_index=True)\n",
    "        \n",
    "    return df"
   ]
  },
  {
   "cell_type": "code",
   "execution_count": 104,
   "id": "06418737-bd49-4ab8-89ad-713bd14b73dd",
   "metadata": {},
   "outputs": [],
   "source": [
    "def transform(df):\n",
    "    df['GDP_USD_millions']=df['GDP_USD_millions'].str.replace('—','0')\n",
    "    df['GDP_USD_millions']=df['GDP_USD_millions'].str.replace(',','').astype(float)\n",
    "    df['GDP_USD_millions']=round(df['GDP_USD_millions']/1000,2)\n",
    "    df.rename(columns={'GDP_USD_millions':'GDP_USD_billions'}, inplace = True)\n",
    "    ''' This function converts the GDP information from Currency\n",
    "    format to float value, transforms the information of GDP from\n",
    "    USD (Millions) to USD (Billions) rounding to 2 decimal places.\n",
    "    The function returns the transformed dataframe.'''\n",
    "    return df"
   ]
  },
  {
   "cell_type": "code",
   "execution_count": 105,
   "id": "b553ff45-f9c9-4901-b6fa-e1c34590483d",
   "metadata": {},
   "outputs": [],
   "source": [
    "def load_to_csv(df, csv_path):\n",
    "    df.to_csv(csv_path)\n",
    "    ''' This function saves the final dataframe as a `CSV` file \n",
    "    in the provided path. Function returns nothing.'''"
   ]
  },
  {
   "cell_type": "code",
   "execution_count": 106,
   "id": "483f2ed9-d86e-4a45-b808-fc1d5ffb6c31",
   "metadata": {},
   "outputs": [],
   "source": [
    "def load_to_db(df, sql_connection, table_name):\n",
    "    df.to_sql(table_name, sql_connection, if_exists='replace', index=False)\n",
    "    ''' This function saves the final dataframe as a database table\n",
    "            with the provided name. Function returns nothing.'''"
   ]
  },
  {
   "cell_type": "code",
   "execution_count": 107,
   "id": "0099e7fc-9061-480e-8536-9fef24aeafe5",
   "metadata": {},
   "outputs": [],
   "source": [
    "def run_query(query_statement, sql_connection):\n",
    "    query_output = pd.read_sql(query_statement, sql_connection)\n",
    "    print(query_output)\n",
    "    ''' This function runs the stated query on the database table and\n",
    "    prints the output on the terminal. Function returns nothing. '''"
   ]
  },
  {
   "cell_type": "code",
   "execution_count": 108,
   "id": "a4d952cc-aa12-4ba4-a564-2ec64e4f6220",
   "metadata": {},
   "outputs": [],
   "source": [
    "def log_progress(message):\n",
    "    ''' This function logs the mentioned message at a given stage of the code execution to a log file. Function returns nothing'''\n",
    "    timestamp_format = '%Y-%h-%d-%H:%M:%S' # Year-Monthname-Day-Hour-Minute-Second \n",
    "    now = datetime.now() # get current timestamp \n",
    "    timestamp = now.strftime(timestamp_format) \n",
    "    with open(\"./etl_project_log.txt\",\"a\") as f: \n",
    "        f.write(timestamp + ',' + message + '\\n') "
   ]
  },
  {
   "cell_type": "code",
   "execution_count": 109,
   "id": "43fa1fae-7e9a-4a48-a2a0-eb2715f701f2",
   "metadata": {},
   "outputs": [
    {
     "name": "stdout",
     "output_type": "stream",
     "text": [
      "          Country  GDP_USD_billions\n",
      "0   United States          26854.60\n",
      "1           China          19373.59\n",
      "2           Japan           4409.74\n",
      "3         Germany           4308.85\n",
      "4           India           3736.88\n",
      "..            ...               ...\n",
      "64          Kenya            118.13\n",
      "65         Angola            117.88\n",
      "66           Oman            104.90\n",
      "67      Guatemala            102.31\n",
      "68       Bulgaria            100.64\n",
      "\n",
      "[69 rows x 2 columns]\n"
     ]
    }
   ],
   "source": [
    "# Log the initialization of the ETL process \n",
    "log_progress(\"Preliminaries complete. Initiating ETL process.\") \n",
    " \n",
    "# Log the beginning of the Extraction process \n",
    "log_progress(\"Data extraction complete. Initiating Transformation process.\") \n",
    "extracted_data = extract(url, table_attribs) \n",
    " \n",
    "# Log the completion of the Extraction process \n",
    "log_progress(\"Extract phase Ended\") \n",
    " \n",
    "# Log the beginning of the Transformation process \n",
    "log_progress(\"Data transformation complete. Initiating loading process.\") \n",
    "transformed_data = transform(extracted_data) \n",
    " \n",
    "# Log the completion of the Transformation process \n",
    "log_progress(\"Transform phase Ended\") \n",
    " \n",
    "# Log the beginning of the Loading CSV process \n",
    "log_progress(\"Data saved to CSV file.\") \n",
    "load_to_csv(transformed_data, csv_path) \n",
    " \n",
    "# Log the completion of the Loading CSV process \n",
    "log_progress(\"Load CSV phase Ended\") \n",
    "\n",
    "#Initiate sql connection\n",
    "sql_connection = sqlite3.connect(db_name)\n",
    "\n",
    "# Log the beginning of the Loading to DB process \n",
    "log_progress(\"Data loaded to Database as table. Running the query.\") \n",
    "load_to_db(transformed_data, sql_connection, table_name) \n",
    " \n",
    "# Log the completion of the Loading to DB process \n",
    "log_progress(\"Load to DB phase Ended\")\n",
    "\n",
    "#Log query run\n",
    "log_progress(\"Process Complete.\")\n",
    "run_query(query_statement, sql_connection)\n",
    " \n",
    "# Log the completion of the ETL process \n",
    "log_progress(\"ETL Job Ended\") \n",
    "\n",
    "#Closing db connection\n",
    "sql_connection.close()"
   ]
  }
 ],
 "metadata": {
  "kernelspec": {
   "display_name": "Python 3 (ipykernel)",
   "language": "python",
   "name": "python3"
  },
  "language_info": {
   "codemirror_mode": {
    "name": "ipython",
    "version": 3
   },
   "file_extension": ".py",
   "mimetype": "text/x-python",
   "name": "python",
   "nbconvert_exporter": "python",
   "pygments_lexer": "ipython3",
   "version": "3.8.18"
  }
 },
 "nbformat": 4,
 "nbformat_minor": 5
}
